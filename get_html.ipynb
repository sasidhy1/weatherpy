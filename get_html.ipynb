{
 "cells": [
  {
   "cell_type": "code",
   "execution_count": 1,
   "metadata": {},
   "outputs": [],
   "source": [
    "import pandas as pd\n",
    "import os"
   ]
  },
  {
   "cell_type": "code",
   "execution_count": 2,
   "metadata": {},
   "outputs": [],
   "source": [
    "filepath = os.path.join('output','cities.csv')"
   ]
  },
  {
   "cell_type": "code",
   "execution_count": 3,
   "metadata": {},
   "outputs": [
    {
     "data": {
      "text/html": [
       "<div>\n",
       "<style scoped>\n",
       "    .dataframe tbody tr th:only-of-type {\n",
       "        vertical-align: middle;\n",
       "    }\n",
       "\n",
       "    .dataframe tbody tr th {\n",
       "        vertical-align: top;\n",
       "    }\n",
       "\n",
       "    .dataframe thead th {\n",
       "        text-align: right;\n",
       "    }\n",
       "</style>\n",
       "<table border=\"1\" class=\"dataframe\">\n",
       "  <thead>\n",
       "    <tr style=\"text-align: right;\">\n",
       "      <th></th>\n",
       "      <th>city</th>\n",
       "      <th>cloudiness</th>\n",
       "      <th>country</th>\n",
       "      <th>date</th>\n",
       "      <th>humidity</th>\n",
       "      <th>lat</th>\n",
       "      <th>lng</th>\n",
       "      <th>max_temp</th>\n",
       "      <th>wind_speed</th>\n",
       "    </tr>\n",
       "  </thead>\n",
       "  <tbody>\n",
       "    <tr>\n",
       "      <th>0</th>\n",
       "      <td>Igarka</td>\n",
       "      <td>20</td>\n",
       "      <td>RU</td>\n",
       "      <td>1538155532</td>\n",
       "      <td>87</td>\n",
       "      <td>67.47</td>\n",
       "      <td>86.57</td>\n",
       "      <td>51.14</td>\n",
       "      <td>18.68</td>\n",
       "    </tr>\n",
       "    <tr>\n",
       "      <th>1</th>\n",
       "      <td>Kavieng</td>\n",
       "      <td>0</td>\n",
       "      <td>PG</td>\n",
       "      <td>1538155532</td>\n",
       "      <td>100</td>\n",
       "      <td>-2.57</td>\n",
       "      <td>150.80</td>\n",
       "      <td>83.36</td>\n",
       "      <td>11.52</td>\n",
       "    </tr>\n",
       "    <tr>\n",
       "      <th>2</th>\n",
       "      <td>Krasnovishersk</td>\n",
       "      <td>88</td>\n",
       "      <td>RU</td>\n",
       "      <td>1538155532</td>\n",
       "      <td>97</td>\n",
       "      <td>60.40</td>\n",
       "      <td>57.08</td>\n",
       "      <td>41.06</td>\n",
       "      <td>10.63</td>\n",
       "    </tr>\n",
       "    <tr>\n",
       "      <th>3</th>\n",
       "      <td>Klaksvik</td>\n",
       "      <td>92</td>\n",
       "      <td>FO</td>\n",
       "      <td>1538153400</td>\n",
       "      <td>93</td>\n",
       "      <td>62.23</td>\n",
       "      <td>-6.59</td>\n",
       "      <td>46.40</td>\n",
       "      <td>19.46</td>\n",
       "    </tr>\n",
       "    <tr>\n",
       "      <th>4</th>\n",
       "      <td>Rikitea</td>\n",
       "      <td>24</td>\n",
       "      <td>PF</td>\n",
       "      <td>1538155533</td>\n",
       "      <td>100</td>\n",
       "      <td>-23.12</td>\n",
       "      <td>-134.97</td>\n",
       "      <td>72.02</td>\n",
       "      <td>2.24</td>\n",
       "    </tr>\n",
       "  </tbody>\n",
       "</table>\n",
       "</div>"
      ],
      "text/plain": [
       "             city  cloudiness country        date  humidity    lat     lng  \\\n",
       "0          Igarka          20      RU  1538155532        87  67.47   86.57   \n",
       "1         Kavieng           0      PG  1538155532       100  -2.57  150.80   \n",
       "2  Krasnovishersk          88      RU  1538155532        97  60.40   57.08   \n",
       "3        Klaksvik          92      FO  1538153400        93  62.23   -6.59   \n",
       "4         Rikitea          24      PF  1538155533       100 -23.12 -134.97   \n",
       "\n",
       "   max_temp  wind_speed  \n",
       "0     51.14       18.68  \n",
       "1     83.36       11.52  \n",
       "2     41.06       10.63  \n",
       "3     46.40       19.46  \n",
       "4     72.02        2.24  "
      ]
     },
     "execution_count": 3,
     "metadata": {},
     "output_type": "execute_result"
    }
   ],
   "source": [
    "df = pd.read_csv(filepath,delimiter=',')\n",
    "df.head()"
   ]
  },
  {
   "cell_type": "code",
   "execution_count": 5,
   "metadata": {},
   "outputs": [],
   "source": [
    "output_path = os.path.join('output','data_table.html')\n",
    "df.to_html(output_path)"
   ]
  }
 ],
 "metadata": {
  "kernelspec": {
   "display_name": "Python 3",
   "language": "python",
   "name": "python3"
  },
  "language_info": {
   "codemirror_mode": {
    "name": "ipython",
    "version": 3
   },
   "file_extension": ".py",
   "mimetype": "text/x-python",
   "name": "python",
   "nbconvert_exporter": "python",
   "pygments_lexer": "ipython3",
   "version": "3.6.5"
  }
 },
 "nbformat": 4,
 "nbformat_minor": 2
}
